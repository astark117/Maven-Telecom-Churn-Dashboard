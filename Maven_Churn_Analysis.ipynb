{
 "cells": [
  {
   "cell_type": "code",
   "execution_count": 31,
   "id": "385373f7",
   "metadata": {},
   "outputs": [],
   "source": [
    "#import packages\n",
    "import pandas as pd\n",
    "#removes false positive pandas warnings\n",
    "pd.options.mode.chained_assignment = None  # default='warn\n",
    "import matplotlib.pyplot as plt\n",
    "import seaborn as sns"
   ]
  },
  {
   "cell_type": "code",
   "execution_count": 2,
   "id": "21278c47",
   "metadata": {},
   "outputs": [],
   "source": [
    "#importing sqlite and opening telecomDB database\n",
    "import sqlite3 as db\n",
    "con = db.connect('telecomDB.db')\n",
    "c = con.cursor()"
   ]
  },
  {
   "cell_type": "code",
   "execution_count": 7,
   "id": "5f184a19",
   "metadata": {},
   "outputs": [
    {
     "name": "stdout",
     "output_type": "stream",
     "text": [
      "<class 'pandas.core.frame.DataFrame'>\n",
      "RangeIndex: 7043 entries, 0 to 7042\n",
      "Data columns (total 39 columns):\n",
      " #   Column                         Non-Null Count  Dtype  \n",
      "---  ------                         --------------  -----  \n",
      " 0   CustomerID                     7043 non-null   object \n",
      " 1   Gender                         7043 non-null   object \n",
      " 2   Age                            7043 non-null   int64  \n",
      " 3   Married                        7043 non-null   object \n",
      " 4   NumberofDependents             7043 non-null   int64  \n",
      " 5   City                           7043 non-null   object \n",
      " 6   ZipCode                        7043 non-null   int64  \n",
      " 7   Latitude                       7043 non-null   float64\n",
      " 8   Longitude                      7043 non-null   float64\n",
      " 9   NumberofReferrals              7043 non-null   int64  \n",
      " 10  TenureinMonths                 7043 non-null   int64  \n",
      " 11  Offer                          7043 non-null   object \n",
      " 12  PhoneService                   7043 non-null   object \n",
      " 13  AvgMonthlyLongDistanceCharges  6361 non-null   object \n",
      " 14  MultipleLines                  6361 non-null   object \n",
      " 15  InternetService                7043 non-null   object \n",
      " 16  InternetType                   5517 non-null   object \n",
      " 17  AvgMonthlyGBDownload           5517 non-null   float64\n",
      " 18  OnlineSecurity                 5517 non-null   object \n",
      " 19  OnlineBackup                   5517 non-null   object \n",
      " 20  DeviceProtectionPlan           5517 non-null   object \n",
      " 21  PremiumTechSupport             5517 non-null   object \n",
      " 22  StreamingTV                    5517 non-null   object \n",
      " 23  StreamingMovies                5517 non-null   object \n",
      " 24  StreamingMusic                 5517 non-null   object \n",
      " 25  UnlimitedData                  5517 non-null   object \n",
      " 26  Contract                       7043 non-null   object \n",
      " 27  PaperlessBilling               7043 non-null   object \n",
      " 28  PaymentMethod                  7043 non-null   object \n",
      " 29  MonthlyCharge                  7043 non-null   float64\n",
      " 30  TotalCharges                   7043 non-null   float64\n",
      " 31  TotalRefunds                   7043 non-null   float64\n",
      " 32  TotalExtraDataCharges          7043 non-null   int64  \n",
      " 33  TotalLongDistanceCharges       7043 non-null   float64\n",
      " 34  TotalRevenue                   7043 non-null   float64\n",
      " 35  CustomerStatus                 7043 non-null   object \n",
      " 36  ChurnCategory                  1869 non-null   object \n",
      " 37  ChurnReason                    1869 non-null   object \n",
      " 38  Population                     7043 non-null   int64  \n",
      "dtypes: float64(8), int64(7), object(24)\n",
      "memory usage: 2.1+ MB\n",
      "None\n"
     ]
    }
   ],
   "source": [
    "#Querying data from telecomDB and joining population by zip and churn datatables\n",
    "customer_churn = pd.read_sql_query('''\n",
    "                                    SELECT *\n",
    "                                    FROM customer_churn\n",
    "                                    INNER JOIN zipcode_population\n",
    "                                         USING(ZipCode)\n",
    "                                    ''', con)\n",
    "\n",
    "print(customer_churn.info())"
   ]
  },
  {
   "cell_type": "code",
   "execution_count": 84,
   "id": "cd4d5ac5",
   "metadata": {},
   "outputs": [
    {
     "name": "stdout",
     "output_type": "stream",
     "text": [
      "   new_members\n",
      "0          454\n"
     ]
    }
   ],
   "source": [
    "#filtering for number of new customers in the last quarter\n",
    "new_customers = pd.read_sql_query('''\n",
    "                                    SELECT COUNT(CustomerID) AS new_members  \n",
    "                                    FROM customer_churn\n",
    "                                    WHERE CustomerStatus = 'Joined'\n",
    "                                    ''', con)\n",
    "print(new_customers)\n",
    "\n",
    "#export to csv\n",
    "new_customers.to_csv('new_customers.csv')"
   ]
  },
  {
   "cell_type": "code",
   "execution_count": 55,
   "id": "8e9debcd",
   "metadata": {},
   "outputs": [
    {
     "name": "stdout",
     "output_type": "stream",
     "text": [
      "      ChurnCategory                                ChurnReason  number_churned\n",
      "0        Competitor              Competitor had better devices             313\n",
      "1        Competitor               Competitor made better offer             311\n",
      "2          Attitude                 Attitude of support person             220\n",
      "3             Other                                 Don't know             130\n",
      "4        Competitor               Competitor offered more data             117\n",
      "5        Competitor  Competitor offered higher download speeds             100\n",
      "6          Attitude               Attitude of service provider              94\n",
      "7             Price                             Price too high              78\n",
      "8   Dissatisfaction                    Product dissatisfaction              77\n",
      "9   Dissatisfaction                        Network reliability              72\n",
      "10            Price                      Long distance charges              64\n",
      "11  Dissatisfaction                    Service dissatisfaction              63\n",
      "12            Other                                      Moved              46\n",
      "13            Price                         Extra data charges              39\n",
      "14  Dissatisfaction                  Limited range of services              37\n",
      "15  Dissatisfaction           Poor expertise of online support              31\n",
      "16            Price   Lack of affordable download/upload speed              30\n",
      "17  Dissatisfaction            Lack of self-service on Website              29\n",
      "18  Dissatisfaction            Poor expertise of phone support              12\n",
      "19            Other                                   Deceased               6\n"
     ]
    }
   ],
   "source": [
    "#key drivers of customer churn\n",
    "churned_customers_category = pd.read_sql_query('''\n",
    "                                                SELECT ChurnCategory,\n",
    "                                                        ChurnReason,\n",
    "                                                        COUNT(CustomerID) AS number_churned\n",
    "                                                FROM customer_churn\n",
    "                                                WHERE CustomerStatus = 'Churned'\n",
    "                                                GROUP BY ChurnCategory, ChurnReason\n",
    "                                                ORDER BY COUNT(CustomerID) DESC\n",
    "                                            ''', con)\n",
    "\n",
    "print(churned_customers_category)\n",
    "\n",
    "#export to csv\n",
    "churned_customers_category.to_csv('customer_churn_by_category.csv')"
   ]
  },
  {
   "cell_type": "code",
   "execution_count": 86,
   "id": "ee6c9873",
   "metadata": {},
   "outputs": [
    {
     "name": "stdout",
     "output_type": "stream",
     "text": [
      "    TenureinMonths  customer_loss  revenue_loss\n",
      "0                1            380     83.020184\n",
      "1                2            123     88.459675\n",
      "2                3             94     90.469468\n",
      "3                4             83     97.044096\n",
      "4                5             64     93.794187\n",
      "..             ...            ...           ...\n",
      "67              68              9    124.321748\n",
      "68              69              8    128.817065\n",
      "69              70             11    118.537234\n",
      "70              71              6    126.859507\n",
      "71              72              6    114.577639\n",
      "\n",
      "[72 rows x 3 columns]\n"
     ]
    },
    {
     "data": {
      "image/png": "[encoded data removed]",
      "text/plain": [
       "<Figure size 432x288 with 1 Axes>"
      ]
     },
     "metadata": {
      "needs_background": "light"
     },
     "output_type": "display_data"
    }
   ],
   "source": [
    "#customer and avg revenue loss over time\n",
    "customer_churn_over_time = pd.read_sql_query(\"\"\"\n",
    "                                                SELECT TenureinMonths,\n",
    "                                                       COUNT(CustomerID) AS customer_loss,\n",
    "                                                       AVG(TotalRevenue)/TenureinMonths AS revenue_loss_per_person\n",
    "                                                FROM customer_churn        \n",
    "                                                WHERE CustomerStatus = 'Churned'        \n",
    "                                                GROUP BY TenureinMonths\n",
    "                                            \"\"\", con)\n",
    "\n",
    "print(customer_churn_over_time)\n",
    "\n",
    "#visualizing data\n",
    "fig, ax = plt.subplots()\n",
    "ax.plot(customer_churn_over_time['TenureinMonths'], customer_churn_over_time['customer_loss'], customer_churn_over_time['revenue_loss'])\n",
    "ax.set_ylabel(\"Loss\")\n",
    "ax.set_xlabel('Tenure (months)')\n",
    "ax.set_title(\"Customer and average revenue loss over time\")\n",
    "plt.show()\n",
    "\n",
    "#export to csv\n",
    "customer_churn_over_time.to_csv('customer_churn_over_time.csv')"
   ]
  },
  {
   "cell_type": "code",
   "execution_count": 57,
   "id": "2ef2cd95",
   "metadata": {},
   "outputs": [
    {
     "name": "stdout",
     "output_type": "stream",
     "text": [
      "  customer_status   contract_type  customer_count\n",
      "0         Churned  Month-to-Month            1655\n",
      "1         Churned        One Year             166\n",
      "2         Churned        Two Year              48\n",
      "3          Joined  Month-to-Month             408\n",
      "4          Joined        One Year              24\n",
      "5          Joined        Two Year              22\n",
      "6          Stayed  Month-to-Month            1547\n",
      "7          Stayed        One Year            1360\n",
      "8          Stayed        Two Year            1813\n"
     ]
    }
   ],
   "source": [
    "#viewing customer churn and retention by contract type\n",
    "customer_churn_contract = pd.read_sql_query(\"\"\"\n",
    "                                                SELECT CustomerStatus AS customer_status,\n",
    "                                                        Contract AS contract_type,\n",
    "                                                        COUNT(CustomerID) AS customer_count\n",
    "                                                FROM customer_churn               \n",
    "                                                GROUP BY CustomerStatus, Contract\n",
    "                                            \"\"\", con)\n",
    "\n",
    "print(customer_churn_contract)\n",
    "\n",
    "#export to csv\n",
    "customer_churn_contract.to_csv('customer_churn_contract.csv')"
   ]
  },
  {
   "cell_type": "code",
   "execution_count": 59,
   "id": "6b816371",
   "metadata": {},
   "outputs": [
    {
     "name": "stdout",
     "output_type": "stream",
     "text": [
      "   customer_status offer_type  customer_count\n",
      "0          Churned       None            1051\n",
      "1          Churned    Offer A              35\n",
      "2          Churned    Offer B             101\n",
      "3          Churned    Offer C              95\n",
      "4          Churned    Offer D             161\n",
      "5          Churned    Offer E             426\n",
      "6           Joined       None             279\n",
      "7           Joined    Offer E             175\n",
      "8           Stayed       None            2547\n",
      "9           Stayed    Offer A             485\n",
      "10          Stayed    Offer B             723\n",
      "11          Stayed    Offer C             320\n",
      "12          Stayed    Offer D             441\n",
      "13          Stayed    Offer E             204\n"
     ]
    }
   ],
   "source": [
    "#offers and churn/join/retentioon\n",
    "customer_churn_offer = pd.read_sql_query(\"\"\"\n",
    "                                                SELECT  CustomerStatus AS customer_status,\n",
    "                                                        Offer AS offer_type,\n",
    "                                                        COUNT(CustomerID) AS customer_count\n",
    "                                                FROM customer_churn               \n",
    "                                                GROUP BY CustomerStatus, Offer\n",
    "                                            \"\"\", con)\n",
    "\n",
    "print(customer_churn_offer)\n",
    "\n",
    "#export to csv\n",
    "customer_churn_offer.to_csv('customer_churn_offer.csv')"
   ]
  },
  {
   "cell_type": "code",
   "execution_count": 82,
   "id": "21a5928b",
   "metadata": {},
   "outputs": [
    {
     "name": "stdout",
     "output_type": "stream",
     "text": [
      "               City  customer_count  customer_churn\n",
      "0         San Diego             285             185\n",
      "1       Los Angeles             293              78\n",
      "2     San Francisco             104              31\n",
      "3          San Jose             112              29\n",
      "4        Sacramento             108              26\n",
      "...             ...             ...             ...\n",
      "1101    Aliso Viejo               4               0\n",
      "1102         Albion               4               0\n",
      "1103          Alamo               4               0\n",
      "1104        Alameda               8               0\n",
      "1105          Acton               4               0\n",
      "\n",
      "[1106 rows x 3 columns]\n"
     ]
    }
   ],
   "source": [
    "#viewing cities by churn rate\n",
    "customer_churn_city = pd.read_sql_query(\"\"\"\n",
    "                                            SELECT  City,\n",
    "                                                    COUNT(CustomerID) AS customer_count,\n",
    "                                                    SUM(CASE\n",
    "                                                            WHEN CustomerStatus = 'Churned' THEN 1\n",
    "                                                            ELSE 0\n",
    "                                                        END) AS customer_churn\n",
    "                                            FROM customer_churn \n",
    "                                            GROUP BY City\n",
    "                                            ORDER BY customer_churn DESC\n",
    "                                            \"\"\", con)\n",
    "\n",
    "print(customer_churn_city)\n",
    "\n",
    "#export to csv\n",
    "customer_churn_city.to_csv('customer_churn_city.csv')"
   ]
  },
  {
   "cell_type": "code",
   "execution_count": 70,
   "id": "bae2f57c",
   "metadata": {},
   "outputs": [
    {
     "name": "stdout",
     "output_type": "stream",
     "text": [
      "              City  ZipCode  Population  COUNT(CustomerID)  \\\n",
      "0           Acampo    95220        6317                  1   \n",
      "1            Acton    93510        7831                  4   \n",
      "2         Adelanto    92301       18980                  4   \n",
      "3             Adin    96006         615                  2   \n",
      "4     Agoura Hills    91301       25303                  3   \n",
      "...            ...      ...         ...                ...   \n",
      "1093         Yreka    96097        9538                  4   \n",
      "1094     Yuba City    95991       34967                  6   \n",
      "1095       Yucaipa    92399       41575                  3   \n",
      "1096  Yucca Valley    92284       20486                  5   \n",
      "1097         Zenia    95595         259                  3   \n",
      "\n",
      "      percentage_of_market  \n",
      "0                        0  \n",
      "1                        0  \n",
      "2                        0  \n",
      "3                        0  \n",
      "4                        0  \n",
      "...                    ...  \n",
      "1093                     0  \n",
      "1094                     0  \n",
      "1095                     0  \n",
      "1096                     0  \n",
      "1097                     0  \n",
      "\n",
      "[1098 rows x 5 columns]\n"
     ]
    }
   ],
   "source": [
    "#viewing potential new customers in each city\n",
    "customer_potential_city = pd.read_sql_query('''\n",
    "                                                SELECT City,\n",
    "                                                        ZipCode,\n",
    "                                                        Population,\n",
    "                                                        COUNT(CustomerID),\n",
    "                                                        COUNT(CustomerID)/Population AS percentage_of_market\n",
    "                                                FROM customer_churn\n",
    "                                                INNER JOIN zipcode_population\n",
    "                                                         USING(ZipCode)\n",
    "                                                WHERE CustomerStatus = 'Joined'\n",
    "                                                        OR CustomerStatus = 'Stayed'\n",
    "                                                GROUP BY City\n",
    "                                            ''', con)\n",
    "print(customer_potential_city)"
   ]
  },
  {
   "cell_type": "code",
   "execution_count": null,
   "id": "c89f3294",
   "metadata": {},
   "outputs": [],
   "source": []
  }
 ],
 "metadata": {
  "kernelspec": {
   "display_name": "Python 3 (ipykernel)",
   "language": "python",
   "name": "python3"
  },
  "language_info": {
   "codemirror_mode": {
    "name": "ipython",
    "version": 3
   },
   "file_extension": ".py",
   "mimetype": "text/x-python",
   "name": "python",
   "nbconvert_exporter": "python",
   "pygments_lexer": "ipython3",
   "version": "3.9.12"
  }
 },
 "nbformat": 4,
 "nbformat_minor": 5
}
